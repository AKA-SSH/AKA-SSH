{
 "cells": [
  {
   "cell_type": "markdown",
   "id": "d1517183",
   "metadata": {
    "papermill": {
     "duration": 0.0091,
     "end_time": "2025-07-14T11:36:44.193279",
     "exception": false,
     "start_time": "2025-07-14T11:36:44.184179",
     "status": "completed"
    },
    "tags": []
   },
   "source": [
    "# Data Loading"
   ]
  },
  {
   "cell_type": "code",
   "execution_count": 1,
   "id": "258208ff",
   "metadata": {
    "_cell_guid": "b1076dfc-b9ad-4769-8c92-a6c4dae69d19",
    "_uuid": "8f2839f25d086af736a60e9eeb907d3b93b6e0e5",
    "execution": {
     "iopub.execute_input": "2025-07-14T11:36:44.211512Z",
     "iopub.status.busy": "2025-07-14T11:36:44.211110Z",
     "iopub.status.idle": "2025-07-14T11:36:46.204490Z",
     "shell.execute_reply": "2025-07-14T11:36:46.203678Z"
    },
    "papermill": {
     "duration": 2.004481,
     "end_time": "2025-07-14T11:36:46.206209",
     "exception": false,
     "start_time": "2025-07-14T11:36:44.201728",
     "status": "completed"
    },
    "tags": []
   },
   "outputs": [],
   "source": [
    "import os\n",
    "import pandas as pd"
   ]
  },
  {
   "cell_type": "code",
   "execution_count": 2,
   "id": "8f0f4e60",
   "metadata": {
    "execution": {
     "iopub.execute_input": "2025-07-14T11:36:46.224520Z",
     "iopub.status.busy": "2025-07-14T11:36:46.224069Z",
     "iopub.status.idle": "2025-07-14T11:36:46.268507Z",
     "shell.execute_reply": "2025-07-14T11:36:46.267664Z"
    },
    "papermill": {
     "duration": 0.05528,
     "end_time": "2025-07-14T11:36:46.270181",
     "exception": false,
     "start_time": "2025-07-14T11:36:46.214901",
     "status": "completed"
    },
    "tags": []
   },
   "outputs": [],
   "source": [
    "DF = pd.read_csv('/kaggle/input/hr-analytics-prediction/HR-Employee-Attrition.csv')"
   ]
  },
  {
   "cell_type": "code",
   "execution_count": 3,
   "id": "c2e2a151",
   "metadata": {
    "execution": {
     "iopub.execute_input": "2025-07-14T11:36:46.288209Z",
     "iopub.status.busy": "2025-07-14T11:36:46.287885Z",
     "iopub.status.idle": "2025-07-14T11:36:46.312784Z",
     "shell.execute_reply": "2025-07-14T11:36:46.311933Z"
    },
    "papermill": {
     "duration": 0.035825,
     "end_time": "2025-07-14T11:36:46.314556",
     "exception": false,
     "start_time": "2025-07-14T11:36:46.278731",
     "status": "completed"
    },
    "tags": []
   },
   "outputs": [],
   "source": [
    "columns_to_drop = DF.columns[DF.nunique()==1]\n",
    "DF_cleaned = DF.drop(columns=columns_to_drop)"
   ]
  },
  {
   "cell_type": "markdown",
   "id": "80f132ca",
   "metadata": {
    "papermill": {
     "duration": 0.007994,
     "end_time": "2025-07-14T11:36:46.331562",
     "exception": false,
     "start_time": "2025-07-14T11:36:46.323568",
     "status": "completed"
    },
    "tags": []
   },
   "source": [
    "# Data Cleaning and Arrangement"
   ]
  },
  {
   "cell_type": "code",
   "execution_count": 4,
   "id": "fc223e17",
   "metadata": {
    "execution": {
     "iopub.execute_input": "2025-07-14T11:36:46.349382Z",
     "iopub.status.busy": "2025-07-14T11:36:46.349035Z",
     "iopub.status.idle": "2025-07-14T11:36:46.359450Z",
     "shell.execute_reply": "2025-07-14T11:36:46.358427Z"
    },
    "papermill": {
     "duration": 0.021519,
     "end_time": "2025-07-14T11:36:46.361151",
     "exception": false,
     "start_time": "2025-07-14T11:36:46.339632",
     "status": "completed"
    },
    "tags": []
   },
   "outputs": [
    {
     "data": {
      "text/plain": [
       "Age                         0\n",
       "Attrition                   0\n",
       "BusinessTravel              0\n",
       "DailyRate                   0\n",
       "Department                  0\n",
       "DistanceFromHome            0\n",
       "Education                   0\n",
       "EducationField              0\n",
       "EmployeeNumber              0\n",
       "EnvironmentSatisfaction     0\n",
       "Gender                      0\n",
       "HourlyRate                  0\n",
       "JobInvolvement              0\n",
       "JobLevel                    0\n",
       "JobRole                     0\n",
       "JobSatisfaction             0\n",
       "MaritalStatus               0\n",
       "MonthlyIncome               0\n",
       "MonthlyRate                 0\n",
       "NumCompaniesWorked          0\n",
       "OverTime                    0\n",
       "PercentSalaryHike           0\n",
       "PerformanceRating           0\n",
       "RelationshipSatisfaction    0\n",
       "StockOptionLevel            0\n",
       "TotalWorkingYears           0\n",
       "TrainingTimesLastYear       0\n",
       "WorkLifeBalance             0\n",
       "YearsAtCompany              0\n",
       "YearsInCurrentRole          0\n",
       "YearsSinceLastPromotion     0\n",
       "YearsWithCurrManager        0\n",
       "dtype: int64"
      ]
     },
     "execution_count": 4,
     "metadata": {},
     "output_type": "execute_result"
    }
   ],
   "source": [
    "DF_cleaned.isna().sum()"
   ]
  },
  {
   "cell_type": "code",
   "execution_count": 5,
   "id": "5de3116c",
   "metadata": {
    "execution": {
     "iopub.execute_input": "2025-07-14T11:36:46.379460Z",
     "iopub.status.busy": "2025-07-14T11:36:46.378652Z",
     "iopub.status.idle": "2025-07-14T11:36:46.383314Z",
     "shell.execute_reply": "2025-07-14T11:36:46.382520Z"
    },
    "papermill": {
     "duration": 0.015272,
     "end_time": "2025-07-14T11:36:46.384776",
     "exception": false,
     "start_time": "2025-07-14T11:36:46.369504",
     "status": "completed"
    },
    "tags": []
   },
   "outputs": [],
   "source": [
    "def ManualOrdinalEncoding(dataframe, column, mapping):\n",
    "    encoded = dataframe[column].map(mapping)\n",
    "    dataframe[column] = encoded"
   ]
  },
  {
   "cell_type": "code",
   "execution_count": 6,
   "id": "83466522",
   "metadata": {
    "execution": {
     "iopub.execute_input": "2025-07-14T11:36:46.402913Z",
     "iopub.status.busy": "2025-07-14T11:36:46.402206Z",
     "iopub.status.idle": "2025-07-14T11:36:46.407717Z",
     "shell.execute_reply": "2025-07-14T11:36:46.406985Z"
    },
    "papermill": {
     "duration": 0.015968,
     "end_time": "2025-07-14T11:36:46.409130",
     "exception": false,
     "start_time": "2025-07-14T11:36:46.393162",
     "status": "completed"
    },
    "tags": []
   },
   "outputs": [],
   "source": [
    "AttritionMap = {\"No\": 0, \"Yes\": 1}\n",
    "\n",
    "ManualOrdinalEncoding(DF_cleaned, \"Attrition\", AttritionMap)"
   ]
  },
  {
   "cell_type": "markdown",
   "id": "dca4c580",
   "metadata": {
    "papermill": {
     "duration": 0.007836,
     "end_time": "2025-07-14T11:36:46.425379",
     "exception": false,
     "start_time": "2025-07-14T11:36:46.417543",
     "status": "completed"
    },
    "tags": []
   },
   "source": [
    "## Ordinal Encoding"
   ]
  },
  {
   "cell_type": "code",
   "execution_count": 7,
   "id": "34d5ddbf",
   "metadata": {
    "execution": {
     "iopub.execute_input": "2025-07-14T11:36:46.442747Z",
     "iopub.status.busy": "2025-07-14T11:36:46.442479Z",
     "iopub.status.idle": "2025-07-14T11:36:46.448177Z",
     "shell.execute_reply": "2025-07-14T11:36:46.447246Z"
    },
    "papermill": {
     "duration": 0.016169,
     "end_time": "2025-07-14T11:36:46.449699",
     "exception": false,
     "start_time": "2025-07-14T11:36:46.433530",
     "status": "completed"
    },
    "tags": []
   },
   "outputs": [],
   "source": [
    "Attrition_True = (DF_cleaned.Attrition == 1)"
   ]
  },
  {
   "cell_type": "markdown",
   "id": "4c2abadd",
   "metadata": {
    "papermill": {
     "duration": 0.008058,
     "end_time": "2025-07-14T11:36:46.466101",
     "exception": false,
     "start_time": "2025-07-14T11:36:46.458043",
     "status": "completed"
    },
    "tags": []
   },
   "source": [
    "### Business Travel"
   ]
  },
  {
   "cell_type": "code",
   "execution_count": 8,
   "id": "3b041b6b",
   "metadata": {
    "execution": {
     "iopub.execute_input": "2025-07-14T11:36:46.484560Z",
     "iopub.status.busy": "2025-07-14T11:36:46.484258Z",
     "iopub.status.idle": "2025-07-14T11:36:46.495083Z",
     "shell.execute_reply": "2025-07-14T11:36:46.494010Z"
    },
    "papermill": {
     "duration": 0.022285,
     "end_time": "2025-07-14T11:36:46.496714",
     "exception": false,
     "start_time": "2025-07-14T11:36:46.474429",
     "status": "completed"
    },
    "tags": []
   },
   "outputs": [],
   "source": [
    "Non_Travel_Count = (DF_cleaned.BusinessTravel == \"Non-Travel\")\n",
    "Travel_Rarely_Count = (DF_cleaned.BusinessTravel == \"Travel_Rarely\")\n",
    "Travel_Frequently_Count = (DF_cleaned.BusinessTravel == \"Travel_Frequently\")\n",
    "\n",
    "Non_Travel_Attrition_Count = DF_cleaned[Non_Travel_Count&Attrition_True].shape[0]\n",
    "Travel_Rarely_Attrition_Count = DF_cleaned[Travel_Rarely_Count&Attrition_True].shape[0]\n",
    "Travel_Frequently_Attrition_Count = DF_cleaned[Travel_Frequently_Count&Attrition_True].shape[0]"
   ]
  },
  {
   "cell_type": "code",
   "execution_count": 9,
   "id": "eeadbe6b",
   "metadata": {
    "execution": {
     "iopub.execute_input": "2025-07-14T11:36:46.515189Z",
     "iopub.status.busy": "2025-07-14T11:36:46.514438Z",
     "iopub.status.idle": "2025-07-14T11:36:46.520771Z",
     "shell.execute_reply": "2025-07-14T11:36:46.519717Z"
    },
    "papermill": {
     "duration": 0.017103,
     "end_time": "2025-07-14T11:36:46.522345",
     "exception": false,
     "start_time": "2025-07-14T11:36:46.505242",
     "status": "completed"
    },
    "tags": []
   },
   "outputs": [
    {
     "name": "stdout",
     "output_type": "stream",
     "text": [
      "150 1043 277\n",
      "12 156 69\n"
     ]
    }
   ],
   "source": [
    "print(Non_Travel_Count.sum(), Travel_Rarely_Count.sum(), Travel_Frequently_Count.sum())\n",
    "print(Non_Travel_Attrition_Count, Travel_Rarely_Attrition_Count, Travel_Frequently_Attrition_Count)"
   ]
  },
  {
   "cell_type": "code",
   "execution_count": 10,
   "id": "2b282ce2",
   "metadata": {
    "execution": {
     "iopub.execute_input": "2025-07-14T11:36:46.540721Z",
     "iopub.status.busy": "2025-07-14T11:36:46.540419Z",
     "iopub.status.idle": "2025-07-14T11:36:46.546359Z",
     "shell.execute_reply": "2025-07-14T11:36:46.545182Z"
    },
    "papermill": {
     "duration": 0.016743,
     "end_time": "2025-07-14T11:36:46.547960",
     "exception": false,
     "start_time": "2025-07-14T11:36:46.531217",
     "status": "completed"
    },
    "tags": []
   },
   "outputs": [
    {
     "name": "stdout",
     "output_type": "stream",
     "text": [
      "0.14956855225311602 0.2490974729241877\n"
     ]
    }
   ],
   "source": [
    "Travel_Rarely_Frequency = Travel_Rarely_Attrition_Count/Travel_Rarely_Count.sum()\n",
    "Travel_Frequently_Frequency = Travel_Frequently_Attrition_Count/Travel_Frequently_Count.sum()\n",
    "\n",
    "print(Travel_Rarely_Frequency, Travel_Frequently_Frequency)"
   ]
  },
  {
   "cell_type": "code",
   "execution_count": 11,
   "id": "5cdfff61",
   "metadata": {
    "execution": {
     "iopub.execute_input": "2025-07-14T11:36:46.566341Z",
     "iopub.status.busy": "2025-07-14T11:36:46.566021Z",
     "iopub.status.idle": "2025-07-14T11:36:46.571794Z",
     "shell.execute_reply": "2025-07-14T11:36:46.571075Z"
    },
    "papermill": {
     "duration": 0.016937,
     "end_time": "2025-07-14T11:36:46.573747",
     "exception": false,
     "start_time": "2025-07-14T11:36:46.556810",
     "status": "completed"
    },
    "tags": []
   },
   "outputs": [],
   "source": [
    "BusinessTravelMap = {\"Non-Travel\": 0, \"Travel_Rarely\": 1, \"Travel_Frequently\": 2}\n",
    "\n",
    "ManualOrdinalEncoding(DF_cleaned, \"BusinessTravel\", BusinessTravelMap)"
   ]
  },
  {
   "cell_type": "markdown",
   "id": "7e8d2659",
   "metadata": {
    "papermill": {
     "duration": 0.008149,
     "end_time": "2025-07-14T11:36:46.590298",
     "exception": false,
     "start_time": "2025-07-14T11:36:46.582149",
     "status": "completed"
    },
    "tags": []
   },
   "source": [
    "### OverTime"
   ]
  },
  {
   "cell_type": "code",
   "execution_count": 12,
   "id": "9f39fab6",
   "metadata": {
    "execution": {
     "iopub.execute_input": "2025-07-14T11:36:46.674805Z",
     "iopub.status.busy": "2025-07-14T11:36:46.674489Z",
     "iopub.status.idle": "2025-07-14T11:36:46.680570Z",
     "shell.execute_reply": "2025-07-14T11:36:46.679800Z"
    },
    "papermill": {
     "duration": 0.083537,
     "end_time": "2025-07-14T11:36:46.681983",
     "exception": false,
     "start_time": "2025-07-14T11:36:46.598446",
     "status": "completed"
    },
    "tags": []
   },
   "outputs": [
    {
     "data": {
      "text/plain": [
       "array(['Yes', 'No'], dtype=object)"
      ]
     },
     "execution_count": 12,
     "metadata": {},
     "output_type": "execute_result"
    }
   ],
   "source": [
    "DF_cleaned.OverTime.unique()"
   ]
  },
  {
   "cell_type": "code",
   "execution_count": 13,
   "id": "14d0afd2",
   "metadata": {
    "execution": {
     "iopub.execute_input": "2025-07-14T11:36:46.702160Z",
     "iopub.status.busy": "2025-07-14T11:36:46.701771Z",
     "iopub.status.idle": "2025-07-14T11:36:46.710899Z",
     "shell.execute_reply": "2025-07-14T11:36:46.709947Z"
    },
    "papermill": {
     "duration": 0.020957,
     "end_time": "2025-07-14T11:36:46.712381",
     "exception": false,
     "start_time": "2025-07-14T11:36:46.691424",
     "status": "completed"
    },
    "tags": []
   },
   "outputs": [],
   "source": [
    "Over_Time_False_Count = (DF_cleaned.OverTime == \"No\")\n",
    "Over_Time_True_Count = (DF_cleaned.OverTime == \"Yes\")\n",
    "\n",
    "Over_Time_False_Attrition_Count = DF_cleaned[Over_Time_False_Count&Attrition_True].shape[0]\n",
    "Over_Time_True_Attrition_Count = DF_cleaned[Over_Time_True_Count&Attrition_True].shape[0]"
   ]
  },
  {
   "cell_type": "code",
   "execution_count": 14,
   "id": "7632f97b",
   "metadata": {
    "execution": {
     "iopub.execute_input": "2025-07-14T11:36:46.733946Z",
     "iopub.status.busy": "2025-07-14T11:36:46.733575Z",
     "iopub.status.idle": "2025-07-14T11:36:46.739344Z",
     "shell.execute_reply": "2025-07-14T11:36:46.738325Z"
    },
    "papermill": {
     "duration": 0.019758,
     "end_time": "2025-07-14T11:36:46.741013",
     "exception": false,
     "start_time": "2025-07-14T11:36:46.721255",
     "status": "completed"
    },
    "tags": []
   },
   "outputs": [
    {
     "name": "stdout",
     "output_type": "stream",
     "text": [
      "0.10436432637571158 0.30528846153846156\n"
     ]
    }
   ],
   "source": [
    "Over_Time_False_Frequency = Over_Time_False_Attrition_Count/Over_Time_False_Count.sum()\n",
    "Over_Time_True_Frequency = Over_Time_True_Attrition_Count/Over_Time_True_Count.sum()\n",
    "\n",
    "print(Over_Time_False_Frequency, Over_Time_True_Frequency)"
   ]
  },
  {
   "cell_type": "code",
   "execution_count": 15,
   "id": "67571555",
   "metadata": {
    "execution": {
     "iopub.execute_input": "2025-07-14T11:36:46.760158Z",
     "iopub.status.busy": "2025-07-14T11:36:46.759804Z",
     "iopub.status.idle": "2025-07-14T11:36:46.766050Z",
     "shell.execute_reply": "2025-07-14T11:36:46.765235Z"
    },
    "papermill": {
     "duration": 0.017398,
     "end_time": "2025-07-14T11:36:46.767679",
     "exception": false,
     "start_time": "2025-07-14T11:36:46.750281",
     "status": "completed"
    },
    "tags": []
   },
   "outputs": [],
   "source": [
    "OverTimeMap = {\"No\": 0, \"Yes\": 1}\n",
    "\n",
    "ManualOrdinalEncoding(DF_cleaned, \"OverTime\", OverTimeMap)"
   ]
  },
  {
   "cell_type": "markdown",
   "id": "7ed74dd8",
   "metadata": {
    "papermill": {
     "duration": 0.008335,
     "end_time": "2025-07-14T11:36:46.784926",
     "exception": false,
     "start_time": "2025-07-14T11:36:46.776591",
     "status": "completed"
    },
    "tags": []
   },
   "source": [
    "### MaritalStatus"
   ]
  },
  {
   "cell_type": "code",
   "execution_count": 16,
   "id": "1d3e1ba7",
   "metadata": {
    "execution": {
     "iopub.execute_input": "2025-07-14T11:36:46.803167Z",
     "iopub.status.busy": "2025-07-14T11:36:46.802801Z",
     "iopub.status.idle": "2025-07-14T11:36:46.809582Z",
     "shell.execute_reply": "2025-07-14T11:36:46.808594Z"
    },
    "papermill": {
     "duration": 0.017942,
     "end_time": "2025-07-14T11:36:46.811465",
     "exception": false,
     "start_time": "2025-07-14T11:36:46.793523",
     "status": "completed"
    },
    "tags": []
   },
   "outputs": [
    {
     "data": {
      "text/plain": [
       "array(['Single', 'Married', 'Divorced'], dtype=object)"
      ]
     },
     "execution_count": 16,
     "metadata": {},
     "output_type": "execute_result"
    }
   ],
   "source": [
    "DF_cleaned.MaritalStatus.unique()"
   ]
  },
  {
   "cell_type": "code",
   "execution_count": 17,
   "id": "1b31b674",
   "metadata": {
    "execution": {
     "iopub.execute_input": "2025-07-14T11:36:46.830455Z",
     "iopub.status.busy": "2025-07-14T11:36:46.830118Z",
     "iopub.status.idle": "2025-07-14T11:36:46.841214Z",
     "shell.execute_reply": "2025-07-14T11:36:46.840213Z"
    },
    "papermill": {
     "duration": 0.022833,
     "end_time": "2025-07-14T11:36:46.843104",
     "exception": false,
     "start_time": "2025-07-14T11:36:46.820271",
     "status": "completed"
    },
    "tags": []
   },
   "outputs": [],
   "source": [
    "Marital_Status_Single_Count = (DF_cleaned.MaritalStatus == \"Single\")\n",
    "Marital_Status_Married_Count = (DF_cleaned.MaritalStatus == \"Married\")\n",
    "Marital_Status_Divorced_Count = (DF_cleaned.MaritalStatus == \"Divorced\")\n",
    "\n",
    "Marital_Status_Single_Attrition_Count = DF_cleaned[Marital_Status_Single_Count&Attrition_True].shape[0]\n",
    "Marital_Status_Married_Attrition_Count = DF_cleaned[Marital_Status_Married_Count&Attrition_True].shape[0]\n",
    "Marital_Status_Divorced_Attrition_Count = DF_cleaned[Marital_Status_Divorced_Count&Attrition_True].shape[0]"
   ]
  },
  {
   "cell_type": "code",
   "execution_count": 18,
   "id": "af93bf2e",
   "metadata": {
    "execution": {
     "iopub.execute_input": "2025-07-14T11:36:46.862491Z",
     "iopub.status.busy": "2025-07-14T11:36:46.862043Z",
     "iopub.status.idle": "2025-07-14T11:36:46.867123Z",
     "shell.execute_reply": "2025-07-14T11:36:46.866100Z"
    },
    "papermill": {
     "duration": 0.016558,
     "end_time": "2025-07-14T11:36:46.868641",
     "exception": false,
     "start_time": "2025-07-14T11:36:46.852083",
     "status": "completed"
    },
    "tags": []
   },
   "outputs": [],
   "source": [
    "Marital_Status_Single_Frequency = Marital_Status_Single_Attrition_Count/Marital_Status_Single_Count.sum()\n",
    "Marital_Status_Married_Frequency = Marital_Status_Married_Attrition_Count/Marital_Status_Married_Count.sum()\n",
    "Marital_Status_Divorced_Frequency = Marital_Status_Divorced_Attrition_Count/Marital_Status_Divorced_Count.sum()"
   ]
  },
  {
   "cell_type": "code",
   "execution_count": 19,
   "id": "a46f11f3",
   "metadata": {
    "execution": {
     "iopub.execute_input": "2025-07-14T11:36:46.889657Z",
     "iopub.status.busy": "2025-07-14T11:36:46.889327Z",
     "iopub.status.idle": "2025-07-14T11:36:46.894445Z",
     "shell.execute_reply": "2025-07-14T11:36:46.893262Z"
    },
    "papermill": {
     "duration": 0.016687,
     "end_time": "2025-07-14T11:36:46.895957",
     "exception": false,
     "start_time": "2025-07-14T11:36:46.879270",
     "status": "completed"
    },
    "tags": []
   },
   "outputs": [
    {
     "name": "stdout",
     "output_type": "stream",
     "text": [
      "0.2553191489361702 0.12481426448736999 0.10091743119266056\n"
     ]
    }
   ],
   "source": [
    "print(Marital_Status_Single_Frequency, Marital_Status_Married_Frequency, Marital_Status_Divorced_Frequency)"
   ]
  },
  {
   "cell_type": "code",
   "execution_count": 20,
   "id": "b1cf0b7f",
   "metadata": {
    "execution": {
     "iopub.execute_input": "2025-07-14T11:36:46.914667Z",
     "iopub.status.busy": "2025-07-14T11:36:46.914367Z",
     "iopub.status.idle": "2025-07-14T11:36:46.921520Z",
     "shell.execute_reply": "2025-07-14T11:36:46.920205Z"
    },
    "papermill": {
     "duration": 0.018805,
     "end_time": "2025-07-14T11:36:46.923485",
     "exception": false,
     "start_time": "2025-07-14T11:36:46.904680",
     "status": "completed"
    },
    "tags": []
   },
   "outputs": [],
   "source": [
    "MaritalStatusMap = {\"Single\": 2, \"Married\": 1, \"Divorced\": 0}\n",
    "\n",
    "ManualOrdinalEncoding(DF_cleaned, \"MaritalStatus\", MaritalStatusMap)"
   ]
  },
  {
   "cell_type": "markdown",
   "id": "e01d8708",
   "metadata": {
    "papermill": {
     "duration": 0.008788,
     "end_time": "2025-07-14T11:36:46.941808",
     "exception": false,
     "start_time": "2025-07-14T11:36:46.933020",
     "status": "completed"
    },
    "tags": []
   },
   "source": [
    "## Label Encoding"
   ]
  },
  {
   "cell_type": "code",
   "execution_count": 21,
   "id": "0f1dd769",
   "metadata": {
    "execution": {
     "iopub.execute_input": "2025-07-14T11:36:46.960988Z",
     "iopub.status.busy": "2025-07-14T11:36:46.960670Z",
     "iopub.status.idle": "2025-07-14T11:36:48.538516Z",
     "shell.execute_reply": "2025-07-14T11:36:48.537597Z"
    },
    "papermill": {
     "duration": 1.589802,
     "end_time": "2025-07-14T11:36:48.540321",
     "exception": false,
     "start_time": "2025-07-14T11:36:46.950519",
     "status": "completed"
    },
    "tags": []
   },
   "outputs": [],
   "source": [
    "from sklearn.preprocessing import LabelEncoder"
   ]
  },
  {
   "cell_type": "code",
   "execution_count": 22,
   "id": "5236e963",
   "metadata": {
    "execution": {
     "iopub.execute_input": "2025-07-14T11:36:48.563654Z",
     "iopub.status.busy": "2025-07-14T11:36:48.563198Z",
     "iopub.status.idle": "2025-07-14T11:36:48.568133Z",
     "shell.execute_reply": "2025-07-14T11:36:48.567351Z"
    },
    "papermill": {
     "duration": 0.01719,
     "end_time": "2025-07-14T11:36:48.569449",
     "exception": false,
     "start_time": "2025-07-14T11:36:48.552259",
     "status": "completed"
    },
    "tags": []
   },
   "outputs": [],
   "source": [
    "LE = LabelEncoder()"
   ]
  },
  {
   "cell_type": "code",
   "execution_count": 23,
   "id": "1e8fdf58",
   "metadata": {
    "execution": {
     "iopub.execute_input": "2025-07-14T11:36:48.588373Z",
     "iopub.status.busy": "2025-07-14T11:36:48.588068Z",
     "iopub.status.idle": "2025-07-14T11:36:48.594623Z",
     "shell.execute_reply": "2025-07-14T11:36:48.593730Z"
    },
    "papermill": {
     "duration": 0.018261,
     "end_time": "2025-07-14T11:36:48.596329",
     "exception": false,
     "start_time": "2025-07-14T11:36:48.578068",
     "status": "completed"
    },
    "tags": []
   },
   "outputs": [],
   "source": [
    "num_col = DF_cleaned.select_dtypes(exclude='object').columns\n",
    "cat_col = DF_cleaned.select_dtypes(include='object').columns"
   ]
  },
  {
   "cell_type": "code",
   "execution_count": 24,
   "id": "f9a35b70",
   "metadata": {
    "execution": {
     "iopub.execute_input": "2025-07-14T11:36:48.614967Z",
     "iopub.status.busy": "2025-07-14T11:36:48.614609Z",
     "iopub.status.idle": "2025-07-14T11:36:48.622594Z",
     "shell.execute_reply": "2025-07-14T11:36:48.621638Z"
    },
    "papermill": {
     "duration": 0.019123,
     "end_time": "2025-07-14T11:36:48.624137",
     "exception": false,
     "start_time": "2025-07-14T11:36:48.605014",
     "status": "completed"
    },
    "tags": []
   },
   "outputs": [],
   "source": [
    "for col in cat_col:\n",
    "    DF_cleaned[col] = LE.fit_transform(DF_cleaned[col])"
   ]
  },
  {
   "cell_type": "markdown",
   "id": "dcf52c09",
   "metadata": {
    "papermill": {
     "duration": 0.008279,
     "end_time": "2025-07-14T11:36:48.641068",
     "exception": false,
     "start_time": "2025-07-14T11:36:48.632789",
     "status": "completed"
    },
    "tags": []
   },
   "source": [
    "# Exploratory Data Anlaysis"
   ]
  },
  {
   "cell_type": "code",
   "execution_count": 25,
   "id": "3631b986",
   "metadata": {
    "execution": {
     "iopub.execute_input": "2025-07-14T11:36:48.659465Z",
     "iopub.status.busy": "2025-07-14T11:36:48.659152Z",
     "iopub.status.idle": "2025-07-14T11:36:49.294035Z",
     "shell.execute_reply": "2025-07-14T11:36:49.293253Z"
    },
    "papermill": {
     "duration": 0.6459,
     "end_time": "2025-07-14T11:36:49.295660",
     "exception": false,
     "start_time": "2025-07-14T11:36:48.649760",
     "status": "completed"
    },
    "tags": []
   },
   "outputs": [],
   "source": [
    "import warnings\n",
    "import seaborn as sns\n",
    "import matplotlib.pyplot as plt"
   ]
  },
  {
   "cell_type": "code",
   "execution_count": 26,
   "id": "18fca812",
   "metadata": {
    "execution": {
     "iopub.execute_input": "2025-07-14T11:36:49.315968Z",
     "iopub.status.busy": "2025-07-14T11:36:49.315523Z",
     "iopub.status.idle": "2025-07-14T11:36:49.320142Z",
     "shell.execute_reply": "2025-07-14T11:36:49.319375Z"
    },
    "papermill": {
     "duration": 0.01664,
     "end_time": "2025-07-14T11:36:49.321650",
     "exception": false,
     "start_time": "2025-07-14T11:36:49.305010",
     "status": "completed"
    },
    "tags": []
   },
   "outputs": [],
   "source": [
    "warnings.simplefilter(action=\"ignore\", category=FutureWarning)"
   ]
  },
  {
   "cell_type": "markdown",
   "id": "2d20d994",
   "metadata": {
    "papermill": {
     "duration": 0.008539,
     "end_time": "2025-07-14T11:36:49.339665",
     "exception": false,
     "start_time": "2025-07-14T11:36:49.331126",
     "status": "completed"
    },
    "tags": []
   },
   "source": [
    "## Attrition Status"
   ]
  },
  {
   "cell_type": "code",
   "execution_count": 27,
   "id": "eacdce55",
   "metadata": {
    "execution": {
     "iopub.execute_input": "2025-07-14T11:36:49.358363Z",
     "iopub.status.busy": "2025-07-14T11:36:49.358037Z",
     "iopub.status.idle": "2025-07-14T11:36:49.601008Z",
     "shell.execute_reply": "2025-07-14T11:36:49.600149Z"
    },
    "papermill": {
     "duration": 0.254484,
     "end_time": "2025-07-14T11:36:49.602742",
     "exception": false,
     "start_time": "2025-07-14T11:36:49.348258",
     "status": "completed"
    },
    "tags": []
   },
   "outputs": [
    {
     "data": {
      "image/png": "[encoded data removed]",
      "text/plain": [
       "<Figure size 500x400 with 1 Axes>"
      ]
     },
     "metadata": {},
     "output_type": "display_data"
    }
   ],
   "source": [
    "plt.figure(figsize=(5,4))\n",
    "custom_colour_scheme = {0: \"green\", 1: \"red\"}\n",
    "\n",
    "ax = sns.countplot(x=\"Attrition\", data=DF_cleaned, palette=custom_colour_scheme, width=0.25)\n",
    "plt.xticks(ticks=[0, 1], labels=[\"No Attrition\", \"Attrition\"])\n",
    "\n",
    "plt.title(\"Attrition Status Count\")\n",
    "plt.xlabel(\"Attrition Status\")\n",
    "plt.ylabel(\"Count\")\n",
    "\n",
    "for p in ax.patches:\n",
    "    height = p.get_height()\n",
    "    ax.annotate(\n",
    "        f'{int(height)}',\n",
    "        xy=(p.get_x() + p.get_width()/2, height),\n",
    "        ha=\"center\",\n",
    "        va=\"top\",\n",
    "        xytext=(0, -5),\n",
    "        textcoords=\"offset points\",\n",
    "        fontsize=8,\n",
    "        color=\"white\"\n",
    "                )\n",
    "\n",
    "plt.show()"
   ]
  },
  {
   "cell_type": "markdown",
   "id": "fa6f2bcd",
   "metadata": {
    "papermill": {
     "duration": 0.009363,
     "end_time": "2025-07-14T11:36:49.621374",
     "exception": false,
     "start_time": "2025-07-14T11:36:49.612011",
     "status": "completed"
    },
    "tags": []
   },
   "source": [
    "The data is imbalanced, therefore an upsampling must be conducted."
   ]
  },
  {
   "cell_type": "markdown",
   "id": "ee927ebc",
   "metadata": {
    "papermill": {
     "duration": 0.009026,
     "end_time": "2025-07-14T11:36:49.639722",
     "exception": false,
     "start_time": "2025-07-14T11:36:49.630696",
     "status": "completed"
    },
    "tags": []
   },
   "source": [
    "### Age-wise Attrition"
   ]
  },
  {
   "cell_type": "code",
   "execution_count": 28,
   "id": "e5dfc01d",
   "metadata": {
    "execution": {
     "iopub.execute_input": "2025-07-14T11:36:49.659186Z",
     "iopub.status.busy": "2025-07-14T11:36:49.658803Z",
     "iopub.status.idle": "2025-07-14T11:36:49.954710Z",
     "shell.execute_reply": "2025-07-14T11:36:49.953850Z"
    },
    "papermill": {
     "duration": 0.307651,
     "end_time": "2025-07-14T11:36:49.956397",
     "exception": false,
     "start_time": "2025-07-14T11:36:49.648746",
     "status": "completed"
    },
    "tags": []
   },
   "outputs": [
    {
     "data": {
      "image/png": "[encoded data removed]",
      "text/plain": [
       "<Figure size 500x400 with 1 Axes>"
      ]
     },
     "metadata": {},
     "output_type": "display_data"
    }
   ],
   "source": [
    "plt.figure(figsize=(5,4))\n",
    "\n",
    "sns.histplot(\n",
    "    data=DF_cleaned,\n",
    "    x=\"Age\",\n",
    "    bins=21,\n",
    "    kde=False,\n",
    "    stat='density',\n",
    "    color='skyblue',\n",
    "    alpha=0.6,\n",
    "    label=\"Overall Employee Age Distribution\"\n",
    "            )\n",
    "\n",
    "sns.kdeplot(\n",
    "    data=DF_cleaned[DF_cleaned.Attrition==1],\n",
    "    x=\"Age\",\n",
    "    color=\"red\",\n",
    "    linewidth=2,\n",
    "    label=\"Age Distribution of Attrited Employees\"\n",
    "            )\n",
    "\n",
    "plt.xlim(DF_cleaned.Age.min()-2.5, DF_cleaned.Age.max()+2.5)\n",
    "\n",
    "plt.title(\"Age Distribution and Attrition Age Profile\")\n",
    "\n",
    "plt.tight_layout()\n",
    "plt.show()"
   ]
  },
  {
   "cell_type": "markdown",
   "id": "1be7a924",
   "metadata": {
    "papermill": {
     "duration": 0.009385,
     "end_time": "2025-07-14T11:36:49.975963",
     "exception": false,
     "start_time": "2025-07-14T11:36:49.966578",
     "status": "completed"
    },
    "tags": []
   },
   "source": [
    "Age frequency data is right skewed, with a greater right skewness in attrition against the respective age bin."
   ]
  },
  {
   "cell_type": "markdown",
   "id": "799b9ed4",
   "metadata": {
    "papermill": {
     "duration": 0.009243,
     "end_time": "2025-07-14T11:36:49.994788",
     "exception": false,
     "start_time": "2025-07-14T11:36:49.985545",
     "status": "completed"
    },
    "tags": []
   },
   "source": [
    "## Data Split"
   ]
  },
  {
   "cell_type": "code",
   "execution_count": 29,
   "id": "a3079379",
   "metadata": {
    "execution": {
     "iopub.execute_input": "2025-07-14T11:36:50.015352Z",
     "iopub.status.busy": "2025-07-14T11:36:50.014967Z",
     "iopub.status.idle": "2025-07-14T11:36:50.135539Z",
     "shell.execute_reply": "2025-07-14T11:36:50.134340Z"
    },
    "papermill": {
     "duration": 0.132803,
     "end_time": "2025-07-14T11:36:50.137323",
     "exception": false,
     "start_time": "2025-07-14T11:36:50.004520",
     "status": "completed"
    },
    "tags": []
   },
   "outputs": [],
   "source": [
    "from sklearn.model_selection import train_test_split"
   ]
  },
  {
   "cell_type": "code",
   "execution_count": 30,
   "id": "0aea480c",
   "metadata": {
    "execution": {
     "iopub.execute_input": "2025-07-14T11:36:50.158536Z",
     "iopub.status.busy": "2025-07-14T11:36:50.158189Z",
     "iopub.status.idle": "2025-07-14T11:36:50.165433Z",
     "shell.execute_reply": "2025-07-14T11:36:50.164595Z"
    },
    "papermill": {
     "duration": 0.019852,
     "end_time": "2025-07-14T11:36:50.167280",
     "exception": false,
     "start_time": "2025-07-14T11:36:50.147428",
     "status": "completed"
    },
    "tags": []
   },
   "outputs": [],
   "source": [
    "DF_train, DF_test = train_test_split(DF_cleaned, test_size=0.25, train_size=None, random_state=None, shuffle=True, stratify=None)"
   ]
  },
  {
   "cell_type": "markdown",
   "id": "b8eb18d3",
   "metadata": {
    "papermill": {
     "duration": 0.009411,
     "end_time": "2025-07-14T11:36:50.187298",
     "exception": false,
     "start_time": "2025-07-14T11:36:50.177887",
     "status": "completed"
    },
    "tags": []
   },
   "source": [
    "## Upsample"
   ]
  },
  {
   "cell_type": "code",
   "execution_count": 31,
   "id": "63226b22",
   "metadata": {
    "execution": {
     "iopub.execute_input": "2025-07-14T11:36:50.207787Z",
     "iopub.status.busy": "2025-07-14T11:36:50.207507Z",
     "iopub.status.idle": "2025-07-14T11:36:50.212279Z",
     "shell.execute_reply": "2025-07-14T11:36:50.211204Z"
    },
    "papermill": {
     "duration": 0.017014,
     "end_time": "2025-07-14T11:36:50.214006",
     "exception": false,
     "start_time": "2025-07-14T11:36:50.196992",
     "status": "completed"
    },
    "tags": []
   },
   "outputs": [],
   "source": [
    "from sklearn.utils import resample"
   ]
  },
  {
   "cell_type": "code",
   "execution_count": 32,
   "id": "1fc069fc",
   "metadata": {
    "execution": {
     "iopub.execute_input": "2025-07-14T11:36:50.234452Z",
     "iopub.status.busy": "2025-07-14T11:36:50.234098Z",
     "iopub.status.idle": "2025-07-14T11:36:50.241327Z",
     "shell.execute_reply": "2025-07-14T11:36:50.240420Z"
    },
    "papermill": {
     "duration": 0.019457,
     "end_time": "2025-07-14T11:36:50.243099",
     "exception": false,
     "start_time": "2025-07-14T11:36:50.223642",
     "status": "completed"
    },
    "tags": []
   },
   "outputs": [],
   "source": [
    "DF_train_minority = DF_train[DF_train['Attrition']==1]\n",
    "DF_train_majority = DF_train[DF_train['Attrition']==0]"
   ]
  },
  {
   "cell_type": "code",
   "execution_count": 33,
   "id": "a302c39d",
   "metadata": {
    "execution": {
     "iopub.execute_input": "2025-07-14T11:36:50.263910Z",
     "iopub.status.busy": "2025-07-14T11:36:50.263566Z",
     "iopub.status.idle": "2025-07-14T11:36:50.271187Z",
     "shell.execute_reply": "2025-07-14T11:36:50.270250Z"
    },
    "papermill": {
     "duration": 0.020402,
     "end_time": "2025-07-14T11:36:50.273160",
     "exception": false,
     "start_time": "2025-07-14T11:36:50.252758",
     "status": "completed"
    },
    "tags": []
   },
   "outputs": [],
   "source": [
    "resampled_DF_train_minority = resample(DF_train_minority, replace=True, n_samples=len(DF_train_majority), random_state=42)"
   ]
  },
  {
   "cell_type": "code",
   "execution_count": 34,
   "id": "c74bc6ba",
   "metadata": {
    "execution": {
     "iopub.execute_input": "2025-07-14T11:36:50.293858Z",
     "iopub.status.busy": "2025-07-14T11:36:50.293538Z",
     "iopub.status.idle": "2025-07-14T11:36:50.297916Z",
     "shell.execute_reply": "2025-07-14T11:36:50.297125Z"
    },
    "papermill": {
     "duration": 0.016709,
     "end_time": "2025-07-14T11:36:50.299658",
     "exception": false,
     "start_time": "2025-07-14T11:36:50.282949",
     "status": "completed"
    },
    "tags": []
   },
   "outputs": [],
   "source": [
    "from sklearn.utils import shuffle"
   ]
  },
  {
   "cell_type": "code",
   "execution_count": 35,
   "id": "1b0e78b7",
   "metadata": {
    "execution": {
     "iopub.execute_input": "2025-07-14T11:36:50.320730Z",
     "iopub.status.busy": "2025-07-14T11:36:50.320452Z",
     "iopub.status.idle": "2025-07-14T11:36:50.328712Z",
     "shell.execute_reply": "2025-07-14T11:36:50.327673Z"
    },
    "papermill": {
     "duration": 0.021283,
     "end_time": "2025-07-14T11:36:50.331052",
     "exception": false,
     "start_time": "2025-07-14T11:36:50.309769",
     "status": "completed"
    },
    "tags": []
   },
   "outputs": [],
   "source": [
    "resampled_DF_train = pd.concat([resampled_DF_train_minority, DF_train_majority])\n",
    "resampled_DF_train = resampled_DF_train.sample(frac=1, random_state=42)"
   ]
  },
  {
   "cell_type": "code",
   "execution_count": 36,
   "id": "d2daae6f",
   "metadata": {
    "execution": {
     "iopub.execute_input": "2025-07-14T11:36:50.352694Z",
     "iopub.status.busy": "2025-07-14T11:36:50.352352Z",
     "iopub.status.idle": "2025-07-14T11:36:50.360130Z",
     "shell.execute_reply": "2025-07-14T11:36:50.359302Z"
    },
    "papermill": {
     "duration": 0.020154,
     "end_time": "2025-07-14T11:36:50.361743",
     "exception": false,
     "start_time": "2025-07-14T11:36:50.341589",
     "status": "completed"
    },
    "tags": []
   },
   "outputs": [],
   "source": [
    "X_train, y_train = resampled_DF_train.drop(\"Attrition\", axis=1, inplace=False), resampled_DF_train[\"Attrition\"]\n",
    "X_test, y_test = DF_test.drop(\"Attrition\", axis=1, inplace=False), DF_test[\"Attrition\"]"
   ]
  },
  {
   "cell_type": "markdown",
   "id": "7fbd328e",
   "metadata": {
    "papermill": {
     "duration": 0.009849,
     "end_time": "2025-07-14T11:36:50.381315",
     "exception": false,
     "start_time": "2025-07-14T11:36:50.371466",
     "status": "completed"
    },
    "tags": []
   },
   "source": [
    "# Model Training"
   ]
  },
  {
   "cell_type": "code",
   "execution_count": 37,
   "id": "8b27fb24",
   "metadata": {
    "execution": {
     "iopub.execute_input": "2025-07-14T11:36:50.401516Z",
     "iopub.status.busy": "2025-07-14T11:36:50.401179Z",
     "iopub.status.idle": "2025-07-14T11:36:51.152792Z",
     "shell.execute_reply": "2025-07-14T11:36:51.151716Z"
    },
    "papermill": {
     "duration": 0.763861,
     "end_time": "2025-07-14T11:36:51.154591",
     "exception": false,
     "start_time": "2025-07-14T11:36:50.390730",
     "status": "completed"
    },
    "tags": []
   },
   "outputs": [],
   "source": [
    "import optuna\n",
    "import numpy as np\n",
    "import pandas as pd\n",
    "from sklearn.model_selection import StratifiedKFold\n",
    "from sklearn.ensemble import RandomForestClassifier\n",
    "from sklearn.metrics import roc_auc_score, accuracy_score\n",
    "from sklearn.preprocessing import StandardScaler"
   ]
  },
  {
   "cell_type": "code",
   "execution_count": 38,
   "id": "97727a03",
   "metadata": {
    "execution": {
     "iopub.execute_input": "2025-07-14T11:36:51.175019Z",
     "iopub.status.busy": "2025-07-14T11:36:51.174598Z",
     "iopub.status.idle": "2025-07-14T11:36:51.201602Z",
     "shell.execute_reply": "2025-07-14T11:36:51.200578Z"
    },
    "papermill": {
     "duration": 0.039207,
     "end_time": "2025-07-14T11:36:51.203473",
     "exception": false,
     "start_time": "2025-07-14T11:36:51.164266",
     "status": "completed"
    },
    "tags": []
   },
   "outputs": [],
   "source": [
    "scaler = StandardScaler()\n",
    "X_train_scaled = scaler.fit_transform(X_train)\n",
    "X_test_scaled = scaler.transform(X_test)"
   ]
  },
  {
   "cell_type": "code",
   "execution_count": 39,
   "id": "d4c72904",
   "metadata": {
    "execution": {
     "iopub.execute_input": "2025-07-14T11:36:51.224233Z",
     "iopub.status.busy": "2025-07-14T11:36:51.223919Z",
     "iopub.status.idle": "2025-07-14T11:36:51.230646Z",
     "shell.execute_reply": "2025-07-14T11:36:51.229818Z"
    },
    "papermill": {
     "duration": 0.019156,
     "end_time": "2025-07-14T11:36:51.232378",
     "exception": false,
     "start_time": "2025-07-14T11:36:51.213222",
     "status": "completed"
    },
    "tags": []
   },
   "outputs": [],
   "source": [
    "def objective(trial):\n",
    "    \"\"\"\n",
    "    Objective function for Optuna to optimize.\n",
    "    It suggests hyperparameters, trains a RandomForestClassifier, \n",
    "    and returns the ROC AUC score on the test set.\n",
    "    \"\"\"\n",
    "    n_estimators = trial.suggest_int('n_estimators', 50, 500)\n",
    "    max_depth = trial.suggest_int('max_depth', 3, 20)\n",
    "    min_samples_leaf = trial.suggest_int('min_samples_leaf', 1, 10)\n",
    "    min_samples_split = trial.suggest_int('min_samples_split', 2, 20)\n",
    "    criterion = trial.suggest_categorical('criterion', ['gini', 'entropy'])\n",
    "\n",
    "    classifier = RandomForestClassifier(\n",
    "        n_estimators=n_estimators,\n",
    "        max_depth=max_depth,\n",
    "        min_samples_leaf=min_samples_leaf,\n",
    "        min_samples_split=min_samples_split,\n",
    "        criterion=criterion,\n",
    "        random_state=42,\n",
    "        n_jobs=-1\n",
    "    )\n",
    "\n",
    "    classifier.fit(X_train_scaled, y_train)\n",
    "\n",
    "    y_pred_proba = classifier.predict_proba(X_test_scaled)[:, 1]\n",
    "    \n",
    "    roc_auc = roc_auc_score(y_test, y_pred_proba)\n",
    "    \n",
    "    return roc_auc"
   ]
  },
  {
   "cell_type": "code",
   "execution_count": 40,
   "id": "32f81df1",
   "metadata": {
    "execution": {
     "iopub.execute_input": "2025-07-14T11:36:51.253898Z",
     "iopub.status.busy": "2025-07-14T11:36:51.253558Z",
     "iopub.status.idle": "2025-07-14T11:38:02.056272Z",
     "shell.execute_reply": "2025-07-14T11:38:02.055364Z"
    },
    "papermill": {
     "duration": 70.814546,
     "end_time": "2025-07-14T11:38:02.057741",
     "exception": false,
     "start_time": "2025-07-14T11:36:51.243195",
     "status": "completed"
    },
    "tags": []
   },
   "outputs": [
    {
     "name": "stderr",
     "output_type": "stream",
     "text": [
      "[I 2025-07-14 11:36:51,256] A new study created in memory with name: no-name-5b31e10a-5f4e-462a-b189-ad7751da97f3\n"
     ]
    },
    {
     "name": "stdout",
     "output_type": "stream",
     "text": [
      "\n",
      "Starting hyperparameter optimization...\n"
     ]
    },
    {
     "name": "stderr",
     "output_type": "stream",
     "text": [
      "[I 2025-07-14 11:36:52,440] Trial 0 finished with value: 0.82903981264637 and parameters: {'n_estimators': 290, 'max_depth': 14, 'min_samples_leaf': 6, 'min_samples_split': 9, 'criterion': 'gini'}. Best is trial 0 with value: 0.82903981264637.\n",
      "[I 2025-07-14 11:36:53,715] Trial 1 finished with value: 0.8336195680457974 and parameters: {'n_estimators': 319, 'max_depth': 10, 'min_samples_leaf': 10, 'min_samples_split': 2, 'criterion': 'entropy'}. Best is trial 1 with value: 0.8336195680457974.\n",
      "[I 2025-07-14 11:36:54,307] Trial 2 finished with value: 0.8326827998959146 and parameters: {'n_estimators': 143, 'max_depth': 20, 'min_samples_leaf': 9, 'min_samples_split': 3, 'criterion': 'gini'}. Best is trial 1 with value: 0.8336195680457974.\n",
      "[I 2025-07-14 11:36:55,206] Trial 3 finished with value: 0.8278428311215196 and parameters: {'n_estimators': 228, 'max_depth': 10, 'min_samples_leaf': 2, 'min_samples_split': 16, 'criterion': 'gini'}. Best is trial 1 with value: 0.8336195680457974.\n",
      "[I 2025-07-14 11:36:57,113] Trial 4 finished with value: 0.8356492323705439 and parameters: {'n_estimators': 500, 'max_depth': 17, 'min_samples_leaf': 10, 'min_samples_split': 8, 'criterion': 'gini'}. Best is trial 4 with value: 0.8356492323705439.\n",
      "[I 2025-07-14 11:36:58,203] Trial 5 finished with value: 0.8304449648711943 and parameters: {'n_estimators': 293, 'max_depth': 7, 'min_samples_leaf': 7, 'min_samples_split': 14, 'criterion': 'gini'}. Best is trial 4 with value: 0.8356492323705439.\n",
      "[I 2025-07-14 11:37:00,106] Trial 6 finished with value: 0.833879781420765 and parameters: {'n_estimators': 491, 'max_depth': 9, 'min_samples_leaf': 3, 'min_samples_split': 7, 'criterion': 'gini'}. Best is trial 4 with value: 0.8356492323705439.\n",
      "[I 2025-07-14 11:37:01,273] Trial 7 finished with value: 0.8413218839448346 and parameters: {'n_estimators': 330, 'max_depth': 3, 'min_samples_leaf': 7, 'min_samples_split': 13, 'criterion': 'gini'}. Best is trial 7 with value: 0.8413218839448346.\n",
      "[I 2025-07-14 11:37:01,516] Trial 8 finished with value: 0.8410616705698674 and parameters: {'n_estimators': 65, 'max_depth': 4, 'min_samples_leaf': 6, 'min_samples_split': 13, 'criterion': 'entropy'}. Best is trial 7 with value: 0.8413218839448346.\n",
      "[I 2025-07-14 11:37:03,033] Trial 9 finished with value: 0.8366380431954202 and parameters: {'n_estimators': 401, 'max_depth': 15, 'min_samples_leaf': 10, 'min_samples_split': 10, 'criterion': 'gini'}. Best is trial 7 with value: 0.8413218839448346.\n",
      "[I 2025-07-14 11:37:04,390] Trial 10 finished with value: 0.8421025240697372 and parameters: {'n_estimators': 380, 'max_depth': 3, 'min_samples_leaf': 4, 'min_samples_split': 20, 'criterion': 'entropy'}. Best is trial 10 with value: 0.8421025240697372.\n",
      "[I 2025-07-14 11:37:05,757] Trial 11 finished with value: 0.8419463960447566 and parameters: {'n_estimators': 386, 'max_depth': 3, 'min_samples_leaf': 4, 'min_samples_split': 20, 'criterion': 'entropy'}. Best is trial 10 with value: 0.8421025240697372.\n",
      "[I 2025-07-14 11:37:07,324] Trial 12 finished with value: 0.8271662763466043 and parameters: {'n_estimators': 406, 'max_depth': 6, 'min_samples_leaf': 4, 'min_samples_split': 20, 'criterion': 'entropy'}. Best is trial 10 with value: 0.8421025240697372.\n",
      "[I 2025-07-14 11:37:08,973] Trial 13 finished with value: 0.8276346604215458 and parameters: {'n_estimators': 428, 'max_depth': 6, 'min_samples_leaf': 1, 'min_samples_split': 19, 'criterion': 'entropy'}. Best is trial 10 with value: 0.8421025240697372.\n",
      "[I 2025-07-14 11:37:10,367] Trial 14 finished with value: 0.8416861826697891 and parameters: {'n_estimators': 367, 'max_depth': 3, 'min_samples_leaf': 4, 'min_samples_split': 17, 'criterion': 'entropy'}. Best is trial 10 with value: 0.8421025240697372.\n",
      "[I 2025-07-14 11:37:11,277] Trial 15 finished with value: 0.8346083788706737 and parameters: {'n_estimators': 230, 'max_depth': 7, 'min_samples_leaf': 4, 'min_samples_split': 18, 'criterion': 'entropy'}. Best is trial 10 with value: 0.8421025240697372.\n",
      "[I 2025-07-14 11:37:12,828] Trial 16 finished with value: 0.8324746291959405 and parameters: {'n_estimators': 435, 'max_depth': 5, 'min_samples_leaf': 5, 'min_samples_split': 20, 'criterion': 'entropy'}. Best is trial 10 with value: 0.8421025240697372.\n",
      "[I 2025-07-14 11:37:13,741] Trial 17 finished with value: 0.8246161852719229 and parameters: {'n_estimators': 228, 'max_depth': 13, 'min_samples_leaf': 2, 'min_samples_split': 15, 'criterion': 'entropy'}. Best is trial 10 with value: 0.8421025240697372.\n",
      "[I 2025-07-14 11:37:15,253] Trial 18 finished with value: 0.8324225865209471 and parameters: {'n_estimators': 363, 'max_depth': 9, 'min_samples_leaf': 3, 'min_samples_split': 5, 'criterion': 'entropy'}. Best is trial 10 with value: 0.8421025240697372.\n",
      "[I 2025-07-14 11:37:16,858] Trial 19 finished with value: 0.8428311215196461 and parameters: {'n_estimators': 458, 'max_depth': 3, 'min_samples_leaf': 5, 'min_samples_split': 12, 'criterion': 'entropy'}. Best is trial 19 with value: 0.8428311215196461.\n",
      "[I 2025-07-14 11:37:18,601] Trial 20 finished with value: 0.8324746291959406 and parameters: {'n_estimators': 446, 'max_depth': 12, 'min_samples_leaf': 8, 'min_samples_split': 11, 'criterion': 'entropy'}. Best is trial 19 with value: 0.8428311215196461.\n",
      "[I 2025-07-14 11:37:20,219] Trial 21 finished with value: 0.8426749934946656 and parameters: {'n_estimators': 458, 'max_depth': 3, 'min_samples_leaf': 5, 'min_samples_split': 16, 'criterion': 'entropy'}. Best is trial 19 with value: 0.8428311215196461.\n",
      "[I 2025-07-14 11:37:21,921] Trial 22 finished with value: 0.8315378610460578 and parameters: {'n_estimators': 463, 'max_depth': 5, 'min_samples_leaf': 5, 'min_samples_split': 12, 'criterion': 'entropy'}. Best is trial 19 with value: 0.8428311215196461.\n",
      "[I 2025-07-14 11:37:23,667] Trial 23 finished with value: 0.8312776476710902 and parameters: {'n_estimators': 473, 'max_depth': 5, 'min_samples_leaf': 5, 'min_samples_split': 17, 'criterion': 'entropy'}. Best is trial 19 with value: 0.8428311215196461.\n",
      "[I 2025-07-14 11:37:25,123] Trial 24 finished with value: 0.8352849336455894 and parameters: {'n_estimators': 353, 'max_depth': 8, 'min_samples_leaf': 7, 'min_samples_split': 15, 'criterion': 'entropy'}. Best is trial 19 with value: 0.8428311215196461.\n",
      "[I 2025-07-14 11:37:26,659] Trial 25 finished with value: 0.8384074941451991 and parameters: {'n_estimators': 423, 'max_depth': 4, 'min_samples_leaf': 6, 'min_samples_split': 18, 'criterion': 'entropy'}. Best is trial 19 with value: 0.8428311215196461.\n",
      "[I 2025-07-14 11:37:28,311] Trial 26 finished with value: 0.8423106947697112 and parameters: {'n_estimators': 455, 'max_depth': 3, 'min_samples_leaf': 3, 'min_samples_split': 16, 'criterion': 'entropy'}. Best is trial 19 with value: 0.8428311215196461.\n",
      "[I 2025-07-14 11:37:30,135] Trial 27 finished with value: 0.8288836846213896 and parameters: {'n_estimators': 461, 'max_depth': 7, 'min_samples_leaf': 3, 'min_samples_split': 15, 'criterion': 'entropy'}. Best is trial 19 with value: 0.8428311215196461.\n",
      "[I 2025-07-14 11:37:31,995] Trial 28 finished with value: 0.8307051782461619 and parameters: {'n_estimators': 496, 'max_depth': 5, 'min_samples_leaf': 1, 'min_samples_split': 11, 'criterion': 'entropy'}. Best is trial 19 with value: 0.8428311215196461.\n",
      "[I 2025-07-14 11:37:33,137] Trial 29 finished with value: 0.8211293260473589 and parameters: {'n_estimators': 262, 'max_depth': 15, 'min_samples_leaf': 5, 'min_samples_split': 9, 'criterion': 'entropy'}. Best is trial 19 with value: 0.8428311215196461.\n",
      "[I 2025-07-14 11:37:33,757] Trial 30 finished with value: 0.8317460317460318 and parameters: {'n_estimators': 155, 'max_depth': 4, 'min_samples_leaf': 2, 'min_samples_split': 13, 'criterion': 'entropy'}. Best is trial 19 with value: 0.8428311215196461.\n",
      "[I 2025-07-14 11:37:35,288] Trial 31 finished with value: 0.8418423106947697 and parameters: {'n_estimators': 396, 'max_depth': 3, 'min_samples_leaf': 3, 'min_samples_split': 17, 'criterion': 'entropy'}. Best is trial 19 with value: 0.8428311215196461.\n",
      "[I 2025-07-14 11:37:36,930] Trial 32 finished with value: 0.8425188654696852 and parameters: {'n_estimators': 454, 'max_depth': 3, 'min_samples_leaf': 4, 'min_samples_split': 18, 'criterion': 'entropy'}. Best is trial 19 with value: 0.8428311215196461.\n",
      "[I 2025-07-14 11:37:38,702] Trial 33 finished with value: 0.8302367941712204 and parameters: {'n_estimators': 456, 'max_depth': 6, 'min_samples_leaf': 6, 'min_samples_split': 16, 'criterion': 'entropy'}. Best is trial 19 with value: 0.8428311215196461.\n",
      "[I 2025-07-14 11:37:40,064] Trial 34 finished with value: 0.8293000260213375 and parameters: {'n_estimators': 333, 'max_depth': 20, 'min_samples_leaf': 5, 'min_samples_split': 18, 'criterion': 'entropy'}. Best is trial 19 with value: 0.8428311215196461.\n",
      "[I 2025-07-14 11:37:41,691] Trial 35 finished with value: 0.8353369763205829 and parameters: {'n_estimators': 425, 'max_depth': 4, 'min_samples_leaf': 2, 'min_samples_split': 16, 'criterion': 'entropy'}. Best is trial 19 with value: 0.8428311215196461.\n",
      "[I 2025-07-14 11:37:43,777] Trial 36 finished with value: 0.8307051782461619 and parameters: {'n_estimators': 473, 'max_depth': 11, 'min_samples_leaf': 4, 'min_samples_split': 14, 'criterion': 'entropy'}. Best is trial 19 with value: 0.8428311215196461.\n",
      "[I 2025-07-14 11:37:45,719] Trial 37 finished with value: 0.8365339578454333 and parameters: {'n_estimators': 483, 'max_depth': 4, 'min_samples_leaf': 3, 'min_samples_split': 14, 'criterion': 'gini'}. Best is trial 19 with value: 0.8428311215196461.\n",
      "[I 2025-07-14 11:37:47,378] Trial 38 finished with value: 0.8330991412958625 and parameters: {'n_estimators': 414, 'max_depth': 6, 'min_samples_leaf': 7, 'min_samples_split': 12, 'criterion': 'gini'}. Best is trial 19 with value: 0.8428311215196461.\n",
      "[I 2025-07-14 11:37:48,625] Trial 39 finished with value: 0.825344782721832 and parameters: {'n_estimators': 307, 'max_depth': 9, 'min_samples_leaf': 5, 'min_samples_split': 7, 'criterion': 'entropy'}. Best is trial 19 with value: 0.8428311215196461.\n",
      "[I 2025-07-14 11:37:50,572] Trial 40 finished with value: 0.8355971896955503 and parameters: {'n_estimators': 500, 'max_depth': 8, 'min_samples_leaf': 8, 'min_samples_split': 2, 'criterion': 'gini'}. Best is trial 19 with value: 0.8428311215196461.\n",
      "[I 2025-07-14 11:37:52,369] Trial 41 finished with value: 0.828831641946396 and parameters: {'n_estimators': 441, 'max_depth': 18, 'min_samples_leaf': 4, 'min_samples_split': 19, 'criterion': 'entropy'}. Best is trial 19 with value: 0.8428311215196461.\n",
      "[I 2025-07-14 11:37:53,753] Trial 42 finished with value: 0.8424147801196981 and parameters: {'n_estimators': 385, 'max_depth': 3, 'min_samples_leaf': 6, 'min_samples_split': 19, 'criterion': 'entropy'}. Best is trial 19 with value: 0.8428311215196461.\n",
      "[I 2025-07-14 11:37:55,460] Trial 43 finished with value: 0.8418943533697631 and parameters: {'n_estimators': 452, 'max_depth': 3, 'min_samples_leaf': 6, 'min_samples_split': 19, 'criterion': 'entropy'}. Best is trial 19 with value: 0.8428311215196461.\n",
      "[I 2025-07-14 11:37:56,850] Trial 44 finished with value: 0.8387717928701535 and parameters: {'n_estimators': 382, 'max_depth': 4, 'min_samples_leaf': 6, 'min_samples_split': 17, 'criterion': 'entropy'}. Best is trial 19 with value: 0.8428311215196461.\n",
      "[I 2025-07-14 11:37:58,034] Trial 45 finished with value: 0.8423106947697111 and parameters: {'n_estimators': 343, 'max_depth': 3, 'min_samples_leaf': 7, 'min_samples_split': 16, 'criterion': 'entropy'}. Best is trial 19 with value: 0.8428311215196461.\n",
      "[I 2025-07-14 11:37:59,506] Trial 46 finished with value: 0.8333073119958366 and parameters: {'n_estimators': 408, 'max_depth': 5, 'min_samples_leaf': 8, 'min_samples_split': 18, 'criterion': 'entropy'}. Best is trial 19 with value: 0.8428311215196461.\n",
      "[I 2025-07-14 11:38:01,159] Trial 47 finished with value: 0.8414780119698152 and parameters: {'n_estimators': 482, 'max_depth': 3, 'min_samples_leaf': 5, 'min_samples_split': 19, 'criterion': 'gini'}. Best is trial 19 with value: 0.8428311215196461.\n",
      "[I 2025-07-14 11:38:01,768] Trial 48 finished with value: 0.8355451470205569 and parameters: {'n_estimators': 169, 'max_depth': 4, 'min_samples_leaf': 3, 'min_samples_split': 14, 'criterion': 'entropy'}. Best is trial 19 with value: 0.8428311215196461.\n",
      "[I 2025-07-14 11:38:02,047] Trial 49 finished with value: 0.8254488680718189 and parameters: {'n_estimators': 64, 'max_depth': 6, 'min_samples_leaf': 4, 'min_samples_split': 15, 'criterion': 'entropy'}. Best is trial 19 with value: 0.8428311215196461.\n"
     ]
    },
    {
     "name": "stdout",
     "output_type": "stream",
     "text": [
      "\n",
      "Optimization finished.\n",
      "Number of finished trials: 50\n",
      "\n",
      "Best trial:\n",
      "  Value (ROC AUC): 0.8428\n",
      "  Best hyperparameters:\n",
      "    n_estimators: 458\n",
      "    max_depth: 3\n",
      "    min_samples_leaf: 5\n",
      "    min_samples_split: 12\n",
      "    criterion: entropy\n"
     ]
    }
   ],
   "source": [
    "study = optuna.create_study(direction='maximize')\n",
    "\n",
    "print(\"\\nStarting hyperparameter optimization...\")\n",
    "study.optimize(objective, n_trials=50)\n",
    "\n",
    "print(\"\\nOptimization finished.\")\n",
    "print(f\"Number of finished trials: {len(study.trials)}\")\n",
    "\n",
    "print(\"\\nBest trial:\")\n",
    "trial = study.best_trial\n",
    "\n",
    "print(f\"  Value (ROC AUC): {trial.value:.4f}\")\n",
    "print(\"  Best hyperparameters:\")\n",
    "for key, value in trial.params.items():\n",
    "    print(f\"    {key}: {value}\")"
   ]
  },
  {
   "cell_type": "code",
   "execution_count": 41,
   "id": "79eabd7c",
   "metadata": {
    "execution": {
     "iopub.execute_input": "2025-07-14T11:38:02.083432Z",
     "iopub.status.busy": "2025-07-14T11:38:02.082965Z",
     "iopub.status.idle": "2025-07-14T11:38:03.442338Z",
     "shell.execute_reply": "2025-07-14T11:38:03.441339Z"
    },
    "papermill": {
     "duration": 1.374157,
     "end_time": "2025-07-14T11:38:03.444208",
     "exception": false,
     "start_time": "2025-07-14T11:38:02.070051",
     "status": "completed"
    },
    "tags": []
   },
   "outputs": [
    {
     "name": "stdout",
     "output_type": "stream",
     "text": [
      "Training final model with best hyperparameters...\n"
     ]
    },
    {
     "data": {
      "text/html": [
       "<style>#sk-container-id-1 {color: black;background-color: white;}#sk-container-id-1 pre{padding: 0;}#sk-container-id-1 div.sk-toggleable {background-color: white;}#sk-container-id-1 label.sk-toggleable__label {cursor: pointer;display: block;width: 100%;margin-bottom: 0;padding: 0.3em;box-sizing: border-box;text-align: center;}#sk-container-id-1 label.sk-toggleable__label-arrow:before {content: \"▸\";float: left;margin-right: 0.25em;color: #696969;}#sk-container-id-1 label.sk-toggleable__label-arrow:hover:before {color: black;}#sk-container-id-1 div.sk-estimator:hover label.sk-toggleable__label-arrow:before {color: black;}#sk-container-id-1 div.sk-toggleable__content {max-height: 0;max-width: 0;overflow: hidden;text-align: left;background-color: #f0f8ff;}#sk-container-id-1 div.sk-toggleable__content pre {margin: 0.2em;color: black;border-radius: 0.25em;background-color: #f0f8ff;}#sk-container-id-1 input.sk-toggleable__control:checked~div.sk-toggleable__content {max-height: 200px;max-width: 100%;overflow: auto;}#sk-container-id-1 input.sk-toggleable__control:checked~label.sk-toggleable__label-arrow:before {content: \"▾\";}#sk-container-id-1 div.sk-estimator input.sk-toggleable__control:checked~label.sk-toggleable__label {background-color: #d4ebff;}#sk-container-id-1 div.sk-label input.sk-toggleable__control:checked~label.sk-toggleable__label {background-color: #d4ebff;}#sk-container-id-1 input.sk-hidden--visually {border: 0;clip: rect(1px 1px 1px 1px);clip: rect(1px, 1px, 1px, 1px);height: 1px;margin: -1px;overflow: hidden;padding: 0;position: absolute;width: 1px;}#sk-container-id-1 div.sk-estimator {font-family: monospace;background-color: #f0f8ff;border: 1px dotted black;border-radius: 0.25em;box-sizing: border-box;margin-bottom: 0.5em;}#sk-container-id-1 div.sk-estimator:hover {background-color: #d4ebff;}#sk-container-id-1 div.sk-parallel-item::after {content: \"\";width: 100%;border-bottom: 1px solid gray;flex-grow: 1;}#sk-container-id-1 div.sk-label:hover label.sk-toggleable__label {background-color: #d4ebff;}#sk-container-id-1 div.sk-serial::before {content: \"\";position: absolute;border-left: 1px solid gray;box-sizing: border-box;top: 0;bottom: 0;left: 50%;z-index: 0;}#sk-container-id-1 div.sk-serial {display: flex;flex-direction: column;align-items: center;background-color: white;padding-right: 0.2em;padding-left: 0.2em;position: relative;}#sk-container-id-1 div.sk-item {position: relative;z-index: 1;}#sk-container-id-1 div.sk-parallel {display: flex;align-items: stretch;justify-content: center;background-color: white;position: relative;}#sk-container-id-1 div.sk-item::before, #sk-container-id-1 div.sk-parallel-item::before {content: \"\";position: absolute;border-left: 1px solid gray;box-sizing: border-box;top: 0;bottom: 0;left: 50%;z-index: -1;}#sk-container-id-1 div.sk-parallel-item {display: flex;flex-direction: column;z-index: 1;position: relative;background-color: white;}#sk-container-id-1 div.sk-parallel-item:first-child::after {align-self: flex-end;width: 50%;}#sk-container-id-1 div.sk-parallel-item:last-child::after {align-self: flex-start;width: 50%;}#sk-container-id-1 div.sk-parallel-item:only-child::after {width: 0;}#sk-container-id-1 div.sk-dashed-wrapped {border: 1px dashed gray;margin: 0 0.4em 0.5em 0.4em;box-sizing: border-box;padding-bottom: 0.4em;background-color: white;}#sk-container-id-1 div.sk-label label {font-family: monospace;font-weight: bold;display: inline-block;line-height: 1.2em;}#sk-container-id-1 div.sk-label-container {text-align: center;}#sk-container-id-1 div.sk-container {/* jupyter's `normalize.less` sets `[hidden] { display: none; }` but bootstrap.min.css set `[hidden] { display: none !important; }` so we also need the `!important` here to be able to override the default hidden behavior on the sphinx rendered scikit-learn.org. See: https://github.com/scikit-learn/scikit-learn/issues/21755 */display: inline-block !important;position: relative;}#sk-container-id-1 div.sk-text-repr-fallback {display: none;}</style><div id=\"sk-container-id-1\" class=\"sk-top-container\"><div class=\"sk-text-repr-fallback\"><pre>RandomForestClassifier(criterion=&#x27;entropy&#x27;, max_depth=3, min_samples_leaf=5,\n",
       "                       min_samples_split=12, n_estimators=458, n_jobs=-1,\n",
       "                       random_state=42)</pre><b>In a Jupyter environment, please rerun this cell to show the HTML representation or trust the notebook. <br />On GitHub, the HTML representation is unable to render, please try loading this page with nbviewer.org.</b></div><div class=\"sk-container\" hidden><div class=\"sk-item\"><div class=\"sk-estimator sk-toggleable\"><input class=\"sk-toggleable__control sk-hidden--visually\" id=\"sk-estimator-id-1\" type=\"checkbox\" checked><label for=\"sk-estimator-id-1\" class=\"sk-toggleable__label sk-toggleable__label-arrow\">RandomForestClassifier</label><div class=\"sk-toggleable__content\"><pre>RandomForestClassifier(criterion=&#x27;entropy&#x27;, max_depth=3, min_samples_leaf=5,\n",
       "                       min_samples_split=12, n_estimators=458, n_jobs=-1,\n",
       "                       random_state=42)</pre></div></div></div></div></div>"
      ],
      "text/plain": [
       "RandomForestClassifier(criterion='entropy', max_depth=3, min_samples_leaf=5,\n",
       "                       min_samples_split=12, n_estimators=458, n_jobs=-1,\n",
       "                       random_state=42)"
      ]
     },
     "execution_count": 41,
     "metadata": {},
     "output_type": "execute_result"
    }
   ],
   "source": [
    "print(\"Training final model with best hyperparameters...\")\n",
    "best_params = study.best_params\n",
    "final_classifier = RandomForestClassifier(random_state=42, n_jobs=-1, **best_params)\n",
    "\n",
    "final_classifier.fit(X_train_scaled, y_train)"
   ]
  },
  {
   "cell_type": "code",
   "execution_count": 42,
   "id": "5a0572d4",
   "metadata": {
    "execution": {
     "iopub.execute_input": "2025-07-14T11:38:03.471375Z",
     "iopub.status.busy": "2025-07-14T11:38:03.471043Z",
     "iopub.status.idle": "2025-07-14T11:38:03.857618Z",
     "shell.execute_reply": "2025-07-14T11:38:03.856513Z"
    },
    "papermill": {
     "duration": 0.402587,
     "end_time": "2025-07-14T11:38:03.860156",
     "exception": false,
     "start_time": "2025-07-14T11:38:03.457569",
     "status": "completed"
    },
    "tags": []
   },
   "outputs": [
    {
     "name": "stdout",
     "output_type": "stream",
     "text": [
      "Final Model ROC AUC on test set: 0.8428\n",
      "Final Model Accuracy on test set: 0.8071\n"
     ]
    }
   ],
   "source": [
    "y_pred_proba_final = final_classifier.predict_proba(X_test_scaled)[:, 1]\n",
    "y_pred_final = final_classifier.predict(X_test_scaled)\n",
    "\n",
    "final_roc_auc = roc_auc_score(y_test, y_pred_proba_final)\n",
    "final_accuracy = accuracy_score(y_test, y_pred_final)\n",
    "\n",
    "print(f\"Final Model ROC AUC on test set: {final_roc_auc:.4f}\")\n",
    "print(f\"Final Model Accuracy on test set: {final_accuracy:.4f}\")"
   ]
  },
  {
   "cell_type": "code",
   "execution_count": 43,
   "id": "92e3b216",
   "metadata": {
    "execution": {
     "iopub.execute_input": "2025-07-14T11:38:03.899683Z",
     "iopub.status.busy": "2025-07-14T11:38:03.899364Z",
     "iopub.status.idle": "2025-07-14T11:38:03.919400Z",
     "shell.execute_reply": "2025-07-14T11:38:03.918588Z"
    },
    "papermill": {
     "duration": 0.038004,
     "end_time": "2025-07-14T11:38:03.921277",
     "exception": false,
     "start_time": "2025-07-14T11:38:03.883273",
     "status": "completed"
    },
    "tags": []
   },
   "outputs": [
    {
     "name": "stdout",
     "output_type": "stream",
     "text": [
      "\n",
      "Classification Report:\n",
      "              precision    recall  f1-score   support\n",
      "\n",
      "           0       0.93      0.83      0.88       305\n",
      "           1       0.46      0.71      0.56        63\n",
      "\n",
      "    accuracy                           0.81       368\n",
      "   macro avg       0.70      0.77      0.72       368\n",
      "weighted avg       0.85      0.81      0.82       368\n",
      "\n",
      "\n",
      "Confusion Matrix:\n",
      "[[252  53]\n",
      " [ 18  45]]\n"
     ]
    }
   ],
   "source": [
    "from sklearn.metrics import classification_report, confusion_matrix\n",
    "print(\"\\nClassification Report:\")\n",
    "print(classification_report(y_test, y_pred_final))\n",
    "print(\"\\nConfusion Matrix:\")\n",
    "print(confusion_matrix(y_test, y_pred_final))"
   ]
  },
  {
   "cell_type": "markdown",
   "id": "4c6da8dd",
   "metadata": {
    "papermill": {
     "duration": 0.012403,
     "end_time": "2025-07-14T11:38:03.948933",
     "exception": false,
     "start_time": "2025-07-14T11:38:03.936530",
     "status": "completed"
    },
    "tags": []
   },
   "source": [
    "On the basis of above evaluation metrics we can conclude that the model is fit enough to be used for predicting on unseen data."
   ]
  }
 ],
 "metadata": {
  "kaggle": {
   "accelerator": "none",
   "dataSources": [
    {
     "datasetId": 2480666,
     "sourceId": 4207867,
     "sourceType": "datasetVersion"
    }
   ],
   "dockerImageVersionId": 31040,
   "isGpuEnabled": false,
   "isInternetEnabled": false,
   "language": "python",
   "sourceType": "notebook"
  },
  "kernelspec": {
   "display_name": "Python 3",
   "language": "python",
   "name": "python3"
  },
  "language_info": {
   "codemirror_mode": {
    "name": "ipython",
    "version": 3
   },
   "file_extension": ".py",
   "mimetype": "text/x-python",
   "name": "python",
   "nbconvert_exporter": "python",
   "pygments_lexer": "ipython3",
   "version": "3.11.11"
  },
  "papermill": {
   "default_parameters": {},
   "duration": 86.212801,
   "end_time": "2025-07-14T11:38:04.783432",
   "environment_variables": {},
   "exception": null,
   "input_path": "__notebook__.ipynb",
   "output_path": "__notebook__.ipynb",
   "parameters": {},
   "start_time": "2025-07-14T11:36:38.570631",
   "version": "2.6.0"
  }
 },
 "nbformat": 4,
 "nbformat_minor": 5
}
